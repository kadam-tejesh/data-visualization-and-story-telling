{
 "cells": [
  {
   "cell_type": "markdown",
   "id": "1786fbf4",
   "metadata": {},
   "source": [
    "# Final Project: Data Science Tools and Ecosystem\n"
   ]
  },
  {
   "cell_type": "markdown",
   "id": "b08fd25b",
   "metadata": {},
   "source": [
    "## Introduction  \n",
    "In this notebook, we will explore some of the most commonly used tools, languages, and libraries in the field of Data Science. Additionally, we will perform simple arithmetic operations using Python code cells.\n"
   ]
  },
  {
   "cell_type": "markdown",
   "id": "36d6a170",
   "metadata": {},
   "source": [
    "## Data Science Languages  \n",
    "Some of the popular languages that Data Scientists use are:\n",
    "1. Python  \n",
    "2. R  \n",
    "3. SQL  \n",
    "4. Julia  \n",
    "5. Scala\n"
   ]
  },
  {
   "cell_type": "markdown",
   "id": "77e03875",
   "metadata": {},
   "source": [
    "## Data Science Libraries  \n",
    "Popular libraries used in Data Science include:\n",
    "1. NumPy  \n",
    "2. Pandas  \n",
    "3. Matplotlib  \n",
    "4. Scikit-learn  \n",
    "5. TensorFlow  \n",
    "6. Keras\n"
   ]
  },
  {
   "cell_type": "markdown",
   "id": "c32e1b95",
   "metadata": {},
   "source": [
    "## Table of Data Science Tools\n",
    "\n",
    "| Category        | Tool              |\n",
    "|----------------|-------------------|\n",
    "| Data Processing | Apache Spark      |\n",
    "| Visualization   | Tableau           |\n",
    "| Machine Learning| Scikit-learn      |\n",
    "| Big Data        | Hadoop            |\n",
    "| Notebook        | Jupyter Notebook  |\n"
   ]
  },
  {
   "cell_type": "markdown",
   "id": "8be1e4f6",
   "metadata": {},
   "source": [
    "## Arithmetic Expressions in Python  \n",
    "Below are examples of arithmetic operations like addition and multiplication.\n"
   ]
  },
  {
   "cell_type": "code",
   "execution_count": 1,
   "id": "6f6f87b4",
   "metadata": {},
   "outputs": [
    {
     "name": "stdout",
     "output_type": "stream",
     "text": [
      "Result: 17\n"
     ]
    }
   ],
   "source": [
    "# This expression multiplies 3 and 4, then adds 5\n",
    "result = (3 * 4) + 5\n",
    "print(\"Result:\", result)\n"
   ]
  },
  {
   "cell_type": "code",
   "execution_count": 2,
   "id": "74d7395d",
   "metadata": {},
   "outputs": [
    {
     "name": "stdout",
     "output_type": "stream",
     "text": [
      "200 minutes is equal to 3.3333333333333335 hours.\n"
     ]
    }
   ],
   "source": [
    "# Convert 200 minutes into hours\n",
    "minutes = 200\n",
    "hours = minutes / 60\n",
    "print(f\"{minutes} minutes is equal to {hours} hours.\")\n"
   ]
  },
  {
   "cell_type": "markdown",
   "id": "c8097fdc",
   "metadata": {},
   "source": [
    "## Objectives  \n",
    "In this notebook we will:\n",
    "- List popular languages used in Data Science  \n",
    "- List commonly used libraries and tools  \n",
    "- Perform simple arithmetic operations  \n",
    "- Convert minutes to hours using Python  \n",
    "- Format content using markdown\n"
   ]
  },
  {
   "cell_type": "markdown",
   "id": "0ae45f30",
   "metadata": {},
   "source": [
    "## Author  \n",
    "**Name:** K Tejesh\n"
   ]
  },
  {
   "cell_type": "markdown",
   "id": "1572cff3",
   "metadata": {},
   "source": [
    "[GitHub Link to Notebook](https://github.com/your-username/your-repo-name)  \n",
    "\n"
   ]
  }
 ],
 "metadata": {
  "kernelspec": {
   "display_name": "base",
   "language": "python",
   "name": "python3"
  },
  "language_info": {
   "codemirror_mode": {
    "name": "ipython",
    "version": 3
   },
   "file_extension": ".py",
   "mimetype": "text/x-python",
   "name": "python",
   "nbconvert_exporter": "python",
   "pygments_lexer": "ipython3",
   "version": "3.12.7"
  }
 },
 "nbformat": 4,
 "nbformat_minor": 5
}
